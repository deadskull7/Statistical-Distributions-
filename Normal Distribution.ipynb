{
 "cells": [
  {
   "cell_type": "markdown",
   "metadata": {},
   "source": [
    "# Normal distribution"
   ]
  },
  {
   "cell_type": "markdown",
   "metadata": {},
   "source": [
    "![](http://upload.wikimedia.org/wikipedia/commons/thumb/2/25/The_Normal_Distribution.svg/725px-The_Normal_Distribution.svg.png)"
   ]
  },
  {
   "cell_type": "markdown",
   "metadata": {},
   "source": [
    "The normal distribution is useful because of the central limit theorem. In its most general form, under some conditions (which include finite variance), it states that averages of samples of observations of random variables independently drawn from independent distributions converge in distribution to the normal, that is, become normally distributed when the number of observations is sufficiently large."
   ]
  },
  {
   "cell_type": "markdown",
   "metadata": {},
   "source": [
    "#### The normal distribution is sometimes informally called the bell curve"
   ]
  },
  {
   "cell_type": "markdown",
   "metadata": {},
   "source": [
    "\n",
    "\n",
    "The distribution is defined by the probability density function equation:\n",
    "$$ f(x,\\mu,\\sigma) = \\frac{1}{\\sigma\\sqrt{2\\pi}}e^\\frac{-1}{2z^2} $$\n",
    "\n",
    "Where: $$z=\\frac{(X-\\mu)}{\\sigma}$$\n",
    "\n",
    "where: μ=mean , σ=standard deviation , π=3.14... , e=2.718... The total area bounded by curve of the probability density function equation and the X axis is 1; thus the area under the curve between two ordinates X=a and X=b, where a<b, represents the probability that X lies between a and b. This probability can be expressed as: "
   ]
  },
  {
   "cell_type": "markdown",
   "metadata": {},
   "source": [
    "#### mu is the mean or expectation of the distribution (and also its median and mode),"
   ]
  },
  {
   "cell_type": "markdown",
   "metadata": {},
   "source": [
    "#### sigma is the standard deviation, and"
   ]
  },
  {
   "cell_type": "markdown",
   "metadata": {},
   "source": [
    "#### (sigma)^2 is the variance."
   ]
  },
  {
   "cell_type": "markdown",
   "metadata": {},
   "source": [
    "![](https://upload.wikimedia.org/wikipedia/commons/thumb/7/74/Normal_Distribution_PDF.svg/350px-Normal_Distribution_PDF.svg.png)"
   ]
  },
  {
   "cell_type": "code",
   "execution_count": 18,
   "metadata": {},
   "outputs": [
    {
     "data": {
      "text/plain": [
       "[<matplotlib.lines.Line2D at 0x1ba489a30f0>]"
      ]
     },
     "execution_count": 18,
     "metadata": {},
     "output_type": "execute_result"
    },
    {
     "data": {
      "image/png": "[encoded data removed]",
      "text/plain": [
       "<matplotlib.figure.Figure at 0x1ba48961320>"
      ]
     },
     "metadata": {},
     "output_type": "display_data"
    }
   ],
   "source": [
    "import matplotlib as mpl\n",
    "import matplotlib.pyplot as plt\n",
    "%matplotlib inline\n",
    "import numpy as np\n",
    "\n",
    "#Import the stats library\n",
    "from scipy import stats\n",
    "\n",
    "mean = 0\n",
    "\n",
    "std = 1\n",
    "\n",
    "\n",
    "X = np.arange(-5,5,0.02)\n",
    "\n",
    "Y = stats.norm.pdf(X,mean,std)\n",
    "\n",
    "plt.plot(X,Y)"
   ]
  },
  {
   "cell_type": "code",
   "execution_count": 19,
   "metadata": {
    "collapsed": true
   },
   "outputs": [],
   "source": [
    "import numpy as np\n",
    "\n",
    "#Set the mean and the standard deviaiton\n",
    "mu,sigma = 0,0.2\n",
    "\n",
    "# Now grab 1000 random numbers from the normal distribution\n",
    "norm_set = np.random.normal(mu,sigma,10000)"
   ]
  },
  {
   "cell_type": "code",
   "execution_count": 21,
   "metadata": {},
   "outputs": [
    {
     "data": {
      "text/plain": [
       "(array([   1.,    2.,    1.,    2.,    1.,    6.,    9.,    2.,    2.,\n",
       "           2.,    9.,   13.,   10.,   13.,   12.,   27.,   22.,   31.,\n",
       "          25.,   49.,   50.,   41.,   40.,   74.,   63.,   63.,  102.,\n",
       "         112.,   85.,  112.,  133.,  145.,  156.,  153.,  176.,  166.,\n",
       "         189.,  226.,  222.,  231.,  208.,  260.,  264.,  281.,  280.,\n",
       "         273.,  233.,  291.,  320.,  286.,  286.,  283.,  287.,  272.,\n",
       "         226.,  257.,  253.,  233.,  209.,  202.,  178.,  187.,  209.,\n",
       "         162.,  140.,  142.,  118.,  100.,  103.,   80.,   73.,   82.,\n",
       "          62.,   60.,   51.,   39.,   32.,   37.,   25.,   15.,   19.,\n",
       "          13.,   14.,   12.,   13.,    8.,   10.,    9.,    6.,    2.,\n",
       "           3.,    4.,    2.,    1.,    1.,    2.,    1.,    1.,    1.,    1.]),\n",
       " array([ -6.81413872e-01,  -6.67209300e-01,  -6.53004728e-01,\n",
       "         -6.38800157e-01,  -6.24595585e-01,  -6.10391013e-01,\n",
       "         -5.96186442e-01,  -5.81981870e-01,  -5.67777298e-01,\n",
       "         -5.53572726e-01,  -5.39368155e-01,  -5.25163583e-01,\n",
       "         -5.10959011e-01,  -4.96754440e-01,  -4.82549868e-01,\n",
       "         -4.68345296e-01,  -4.54140725e-01,  -4.39936153e-01,\n",
       "         -4.25731581e-01,  -4.11527009e-01,  -3.97322438e-01,\n",
       "         -3.83117866e-01,  -3.68913294e-01,  -3.54708723e-01,\n",
       "         -3.40504151e-01,  -3.26299579e-01,  -3.12095008e-01,\n",
       "         -2.97890436e-01,  -2.83685864e-01,  -2.69481293e-01,\n",
       "         -2.55276721e-01,  -2.41072149e-01,  -2.26867577e-01,\n",
       "         -2.12663006e-01,  -1.98458434e-01,  -1.84253862e-01,\n",
       "         -1.70049291e-01,  -1.55844719e-01,  -1.41640147e-01,\n",
       "         -1.27435576e-01,  -1.13231004e-01,  -9.90264322e-02,\n",
       "         -8.48218606e-02,  -7.06172889e-02,  -5.64127172e-02,\n",
       "         -4.22081455e-02,  -2.80035738e-02,  -1.37990021e-02,\n",
       "          4.05569604e-04,   1.46101413e-02,   2.88147130e-02,\n",
       "          4.30192847e-02,   5.72238564e-02,   7.14284281e-02,\n",
       "          8.56329998e-02,   9.98375715e-02,   1.14042143e-01,\n",
       "          1.28246715e-01,   1.42451287e-01,   1.56655858e-01,\n",
       "          1.70860430e-01,   1.85065002e-01,   1.99269573e-01,\n",
       "          2.13474145e-01,   2.27678717e-01,   2.41883288e-01,\n",
       "          2.56087860e-01,   2.70292432e-01,   2.84497003e-01,\n",
       "          2.98701575e-01,   3.12906147e-01,   3.27110719e-01,\n",
       "          3.41315290e-01,   3.55519862e-01,   3.69724434e-01,\n",
       "          3.83929005e-01,   3.98133577e-01,   4.12338149e-01,\n",
       "          4.26542720e-01,   4.40747292e-01,   4.54951864e-01,\n",
       "          4.69156435e-01,   4.83361007e-01,   4.97565579e-01,\n",
       "          5.11770151e-01,   5.25974722e-01,   5.40179294e-01,\n",
       "          5.54383866e-01,   5.68588437e-01,   5.82793009e-01,\n",
       "          5.96997581e-01,   6.11202152e-01,   6.25406724e-01,\n",
       "          6.39611296e-01,   6.53815867e-01,   6.68020439e-01,\n",
       "          6.82225011e-01,   6.96429583e-01,   7.10634154e-01,\n",
       "          7.24838726e-01,   7.39043298e-01]),\n",
       " <a list of 100 Patch objects>)"
      ]
     },
     "execution_count": 21,
     "metadata": {},
     "output_type": "execute_result"
    },
    {
     "data": {
      "image/png": "[encoded data removed]",
      "text/plain": [
       "<matplotlib.figure.Figure at 0x1ba49629588>"
      ]
     },
     "metadata": {},
     "output_type": "display_data"
    }
   ],
   "source": [
    "import seaborn as sns\n",
    "\n",
    "plt.hist(norm_set,bins=100)"
   ]
  },
  {
   "cell_type": "code",
   "execution_count": 24,
   "metadata": {},
   "outputs": [],
   "source": [
    "## Thank you"
   ]
  },
  {
   "cell_type": "code",
   "execution_count": null,
   "metadata": {
    "collapsed": true
   },
   "outputs": [],
   "source": []
  }
 ],
 "metadata": {
  "kernelspec": {
   "display_name": "Python 3",
   "language": "python",
   "name": "python3"
  },
  "language_info": {
   "codemirror_mode": {
    "name": "ipython",
    "version": 3
   },
   "file_extension": ".py",
   "mimetype": "text/x-python",
   "name": "python",
   "nbconvert_exporter": "python",
   "pygments_lexer": "ipython3",
   "version": "3.6.3"
  }
 },
 "nbformat": 4,
 "nbformat_minor": 2
}
